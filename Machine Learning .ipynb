{
 "cells": [
  {
   "cell_type": "code",
   "execution_count": 1,
   "metadata": {},
   "outputs": [],
   "source": [
    "## Aprender o que eh porco e cachorro.  0 = nao; 1 = sim\n",
    "# Pelo longo?\n",
    "# Perna curta?\n",
    "# faz auau\n",
    "## Classificar porcos e cachorros em dois grupos. Classificação binária\n",
    "porco1 = [0,1,0]  #Nao tem Pelo longo. Tem perna curta. Nao late.\n",
    "porco2 = [0,1,1]\n",
    "porco3 = [1,1,0]\n",
    "\n",
    "\n",
    "cachorro1 = [0,1,1]\n",
    "cachorro2 = [1,0,1]\n",
    "cachorro3 = [1,1,1]\n",
    "\n",
    "x = [porco1, porco2, porco3, cachorro1, cachorro2, cachorro3] #Já começa o treino. \n",
    "y = [1,1,1,0,0,0]  #Classifica os tres primeiros animais sao porcos e os tres ultimos cachorro. 0=dog, 1=pig.\n",
    "## queremos uma função que nos jogue x, avalie as 3 caracteristicas (pelo longo, perna curta, auau) e nos retorno 0 ou 1 (é porco ou cachorro?)\n"
   ]
  },
  {
   "cell_type": "code",
   "execution_count": 4,
   "metadata": {},
   "outputs": [
    {
     "data": {
      "text/plain": [
       "LinearSVC()"
      ]
     },
     "execution_count": 4,
     "metadata": {},
     "output_type": "execute_result"
    }
   ],
   "source": [
    "from sklearn.svm import LinearSVC\n",
    "\n",
    "modelo = LinearSVC()  #cerebro vazio\n",
    "modelo.fit(x,y)  ## Pegue os dados de x e y acima para aprender."
   ]
  },
  {
   "cell_type": "code",
   "execution_count": 6,
   "metadata": {},
   "outputs": [
    {
     "data": {
      "text/plain": [
       "array([0, 1])"
      ]
     },
     "execution_count": 6,
     "metadata": {},
     "output_type": "execute_result"
    }
   ],
   "source": [
    "animal_misterioso = [1,1,1]  #Um animal que tem perna curta, pelo longo e faz auau\n",
    "anim = [0,0,0]  #animal com perna longa, pelo curto e nao late. \n",
    "#O que o modelo reconhecerá?\n",
    "modelo.predict([animal_misterioso, anim]) #Recebe uma lista de animais. "
   ]
  },
  {
   "cell_type": "code",
   "execution_count": 8,
   "metadata": {},
   "outputs": [
    {
     "data": {
      "text/plain": [
       "array([0, 1, 0])"
      ]
     },
     "execution_count": 8,
     "metadata": {},
     "output_type": "execute_result"
    }
   ],
   "source": [
    "# A resposta deu 0, que era cachorro. 1 que era um porco grandao.\n",
    "## Testaremos agr a taxa de sucesso.\n",
    "misterio1 = [1,1,1]\n",
    "misterio2 = [1,1,0]\n",
    "misterio3 = [0,1,1]\n",
    "testex= [misterio1, misterio2, misterio3]\n",
    "testey= [0,1,1] #sabemos que o primeiro eh cachorro e os dois ultimos sao porcos\n",
    "##Agora, oq o algoritimo vai nos dizer? \n",
    "previsoes = modelo.predict([misterio1, misterio2, misterio3]) \n",
    "previsoes"
   ]
  },
  {
   "cell_type": "code",
   "execution_count": 9,
   "metadata": {},
   "outputs": [
    {
     "data": {
      "text/plain": [
       "0.6666666666666666"
      ]
     },
     "execution_count": 9,
     "metadata": {},
     "output_type": "execute_result"
    }
   ],
   "source": [
    "## Array([0,1,0]) onde a verdade seria [0,1,1]. Entao houve um erro.\n",
    "from sklearn.metrics import accuracy_score\n",
    "accuracy_score(testey,previsoes) ##Calculando o quanto acertamos (nossa acurácia) com base na lista 'testey' que nos diz os resultados verdadeiros.\n"
   ]
  },
  {
   "cell_type": "code",
   "execution_count": null,
   "metadata": {},
   "outputs": [],
   "source": [
    "## A pergunta que fica, qual taxa de acurácia é bom?\n",
    "#isso depende muito da situação. No geral, queremos uma taxa acima da do ser humano (geralmente acima de 50% que é a taxa de chute).\n",
    "#Mas há alguns problemas, por ex, se nossa amostra é composta por 80% cachorros e 20% porcos, um programa que chute só 'cachorro'\n",
    "#Acertará 80% das vezes. Calcular apenas a acuracia do código nao eh eficaz. No sklearn há o classificador burro:\n",
    "# 'dummyclassifier' que nos ajuda com isso. É um código burro que só chuta uns valores, por exemplo, o mais frequente ou \n",
    "# o proporcional e etc. O mínimo que queremos é que o acerto seja acima destes códigos dummies. Outro problema é o teste possuir\n",
    "# muitos exemplos velhos, que ja foram usados para 'ensinar' a maquina. Isso acaba enviesando o teste e a acuracia fica maior doq o real.\n"
   ]
  }
 ],
 "metadata": {
  "kernelspec": {
   "display_name": "Python 3",
   "language": "python",
   "name": "python3"
  },
  "language_info": {
   "codemirror_mode": {
    "name": "ipython",
    "version": 3
   },
   "file_extension": ".py",
   "mimetype": "text/x-python",
   "name": "python",
   "nbconvert_exporter": "python",
   "pygments_lexer": "ipython3",
   "version": "3.7.4"
  }
 },
 "nbformat": 4,
 "nbformat_minor": 4
}
